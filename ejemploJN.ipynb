{
 "cells": [
  {
   "cell_type": "markdown",
   "metadata": {},
   "source": [
    "# Librerias"
   ]
  },
  {
   "cell_type": "code",
   "execution_count": 5,
   "metadata": {},
   "outputs": [
    {
     "ename": "ModuleNotFoundError",
     "evalue": "No module named 'google'",
     "output_type": "error",
     "traceback": [
      "\u001b[1;31m---------------------------------------------------------------------------\u001b[0m",
      "\u001b[1;31mModuleNotFoundError\u001b[0m                       Traceback (most recent call last)",
      "\u001b[1;32m~\\AppData\\Local\\Temp\\ipykernel_20276\\1258604822.py\u001b[0m in \u001b[0;36m<module>\u001b[1;34m\u001b[0m\n\u001b[0;32m      3\u001b[0m \u001b[1;32mimport\u001b[0m \u001b[0mpandas\u001b[0m \u001b[1;32mas\u001b[0m \u001b[0mpd\u001b[0m\u001b[1;33m\u001b[0m\u001b[1;33m\u001b[0m\u001b[0m\n\u001b[0;32m      4\u001b[0m \u001b[1;32mimport\u001b[0m \u001b[0mjson\u001b[0m\u001b[1;33m\u001b[0m\u001b[1;33m\u001b[0m\u001b[0m\n\u001b[1;32m----> 5\u001b[1;33m \u001b[1;32mfrom\u001b[0m \u001b[0mgoogle\u001b[0m\u001b[1;33m.\u001b[0m\u001b[0mcolab\u001b[0m \u001b[1;32mimport\u001b[0m \u001b[0mfiles\u001b[0m\u001b[1;33m\u001b[0m\u001b[1;33m\u001b[0m\u001b[0m\n\u001b[0m",
      "\u001b[1;31mModuleNotFoundError\u001b[0m: No module named 'google'"
     ]
    }
   ],
   "source": [
    "# Librerías\n",
    "import requests\n",
    "import pandas as pd\n",
    "import json\n",
    "from google.colab import files"
   ]
  },
  {
   "cell_type": "markdown",
   "metadata": {},
   "source": [
    "# Obtener datos de condiciones atmosféricas"
   ]
  },
  {
   "cell_type": "code",
   "execution_count": null,
   "metadata": {},
   "outputs": [],
   "source": [
    "# Obtener datos de condiciones atmosféricas\n",
    "solicitudDeDatos = requests.get('https://api.datos.gob.mx/v1/condiciones-atmosfericas')"
   ]
  },
  {
   "cell_type": "markdown",
   "metadata": {},
   "source": [
    "# Convertir datos en JSON"
   ]
  },
  {
   "cell_type": "code",
   "execution_count": null,
   "metadata": {},
   "outputs": [],
   "source": [
    "#Convertir datos en JSON\n",
    "datos_json = solicitudDeDatos.json()"
   ]
  },
  {
   "cell_type": "markdown",
   "metadata": {},
   "source": [
    "# Convertir datos en un dataframe"
   ]
  },
  {
   "cell_type": "code",
   "execution_count": null,
   "metadata": {},
   "outputs": [],
   "source": [
    "#Convertir datos en un dataframe\n",
    "dataframe_parcial = pd.DataFrame()\n",
    "df = pd.DataFrame()\n",
    "\n",
    "for item in datos_json.get('results'):\n",
    "  #print(item.keys())\n",
    "  for key in item.keys():\n",
    "    data = {\n",
    "        '_id': [item.get('_id')],\n",
    "        'cityid': [item.get('cityid')],\n",
    "        'validdateutc': [item.get('validdateutc')],\n",
    "        'winddirectioncardinal': [item.get('winddirectioncardinal')],\n",
    "        'probabilityofprecip': [item.get('probabilityofprecip')],\n",
    "        'relativehumidity': [item.get('relativehumidity')],\n",
    "        'name': [item.get('name')],\n",
    "        'date-insert': [item.get('date-insert')],\n",
    "        'longitude': [item.get('longitude')],\n",
    "        'state': [item.get('state')],\n",
    "        'lastreporttime': [item.get('lastreporttime')],\n",
    "        'skydescriptionlong': [item.get('skydescriptionlong')],\n",
    "        'stateabbr': [item.get('stateabbr')],\n",
    "        'tempc': [item.get('tempc')],\n",
    "        'latitude': [item.get('latitude')],\n",
    "        'iconcode': [item.get('iconcode')],\n",
    "        'windspeedkm': [item.get('windspeedkm')]\n",
    "        }\n",
    "    dataframe_parcial = pd.DataFrame(data)\n",
    "    df = pd.concat([df, dataframe_parcial]) "
   ]
  },
  {
   "cell_type": "markdown",
   "metadata": {},
   "source": [
    "# Exportar datos a Excel"
   ]
  },
  {
   "cell_type": "code",
   "execution_count": null,
   "metadata": {},
   "outputs": [],
   "source": [
    "#Exportar datos a Excel\n",
    "df.to_excel('datosEnExcel.xlsx', index=False)\n",
    "files.download('datosEnExcel.xlsx')"
   ]
  }
 ],
 "metadata": {
  "kernelspec": {
   "display_name": "base",
   "language": "python",
   "name": "python3"
  },
  "language_info": {
   "codemirror_mode": {
    "name": "ipython",
    "version": 3
   },
   "file_extension": ".py",
   "mimetype": "text/x-python",
   "name": "python",
   "nbconvert_exporter": "python",
   "pygments_lexer": "ipython3",
   "version": "3.9.13"
  },
  "orig_nbformat": 4
 },
 "nbformat": 4,
 "nbformat_minor": 2
}
